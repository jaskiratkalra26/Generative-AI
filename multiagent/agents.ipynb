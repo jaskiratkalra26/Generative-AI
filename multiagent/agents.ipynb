{
 "cells": [
  {
   "cell_type": "code",
   "execution_count": 1,
   "id": "96ebae16",
   "metadata": {},
   "outputs": [],
   "source": [
    "from langchain_community.tools import WikipediaQueryRun\n",
    "from langchain_community.utilities import WikipediaAPIWrapper"
   ]
  },
  {
   "cell_type": "code",
   "execution_count": 2,
   "id": "f5c5ca7e",
   "metadata": {},
   "outputs": [],
   "source": [
    "api_wrapper = WikipediaAPIWrapper(top_k_results=1,doc_content_chars_max=200)\n",
    "wiki_tool = WikipediaQueryRun(api_wrapper= api_wrapper)"
   ]
  },
  {
   "cell_type": "code",
   "execution_count": 3,
   "id": "9dcdad23",
   "metadata": {},
   "outputs": [
    {
     "name": "stderr",
     "output_type": "stream",
     "text": [
      "USER_AGENT environment variable not set, consider setting it to identify your requests.\n"
     ]
    }
   ],
   "source": [
    "from langchain.document_loaders import WebBaseLoader\n",
    "loader = WebBaseLoader(\"https://www.geeksforgeeks.org/machine-learning/machine-learning/\")\n",
    "doc = loader.load()"
   ]
  },
  {
   "cell_type": "code",
   "execution_count": 40,
   "id": "040a31cf",
   "metadata": {},
   "outputs": [],
   "source": [
    "from langchain.text_splitter import RecursiveCharacterTextSplitter\n",
    "text_splitter = RecursiveCharacterTextSplitter(chunk_size = 1000,chunk_overlap = 200)\n",
    "doc_trans = text_splitter.split_documents(doc)\n",
    "from langchain.schema import Document\n",
    "if not hasattr(doc_trans[0], 'page_content'):\n",
    "    doc_trans = [Document(page_content=chunk) for chunk in doc_trans]"
   ]
  },
  {
   "cell_type": "code",
   "execution_count": 5,
   "id": "cd3de2eb",
   "metadata": {},
   "outputs": [
    {
     "name": "stderr",
     "output_type": "stream",
     "text": [
      "C:\\Users\\jaski\\AppData\\Local\\Temp\\ipykernel_30260\\3415835077.py:2: LangChainDeprecationWarning: The class `HuggingFaceEmbeddings` was deprecated in LangChain 0.2.2 and will be removed in 1.0. An updated version of the class exists in the :class:`~langchain-huggingface package and should be used instead. To use it run `pip install -U :class:`~langchain-huggingface` and import as `from :class:`~langchain_huggingface import HuggingFaceEmbeddings``.\n",
      "  embeddings = HuggingFaceEmbeddings(model_name=\"sentence-transformers/all-MiniLM-L6-v2\")\n",
      "C:\\Users\\jaski\\AppData\\Roaming\\Python\\Python312\\site-packages\\huggingface_hub\\file_download.py:943: FutureWarning: `resume_download` is deprecated and will be removed in version 1.0.0. Downloads always resume when possible. If you want to force a new download, use `force_download=True`.\n",
      "  warnings.warn(\n",
      "C:\\Users\\jaski\\AppData\\Roaming\\Python\\Python312\\site-packages\\huggingface_hub\\file_download.py:943: FutureWarning: `resume_download` is deprecated and will be removed in version 1.0.0. Downloads always resume when possible. If you want to force a new download, use `force_download=True`.\n",
      "  warnings.warn(\n"
     ]
    }
   ],
   "source": [
    "from langchain_community.embeddings import HuggingFaceEmbeddings\n",
    "embeddings = HuggingFaceEmbeddings(model_name=\"sentence-transformers/all-MiniLM-L6-v2\")"
   ]
  },
  {
   "cell_type": "code",
   "execution_count": 41,
   "id": "375f1aab",
   "metadata": {},
   "outputs": [],
   "source": [
    "from langchain.vectorstores import Chroma\n",
    "db = Chroma.from_documents(doc_trans,embeddings)"
   ]
  },
  {
   "cell_type": "code",
   "execution_count": 42,
   "id": "6a472da7",
   "metadata": {},
   "outputs": [
    {
     "data": {
      "text/plain": [
       "[Document(metadata={'title': 'Machine Learning Tutorial - GeeksforGeeks', 'language': 'en-US', 'source': 'https://www.geeksforgeeks.org/machine-learning/machine-learning/', 'description': 'Your All-in-One Learning Portal: GeeksforGeeks is a comprehensive educational platform that empowers learners across domains-spanning computer science and programming, school education, upskilling, commerce, software tools, competitive exams, and more.'}, page_content='Machine learning is a branch of\\xa0Artificial Intelligence\\xa0that focuses on developing models and algorithms that let computers learn from data without being explicitly programmed for every task. In simple words, ML teaches the systems to think and understand like humans by learning from the data.Machine Learning is mainly divided into three core types: Supervised, Unsupervised and Reinforcement Learning along with two additional types, Semi-Supervised and Self-Supervised Learning.Supervised Learning: Trains models on labeled data to predict or classify new, unseen data.Unsupervised Learning: Finds patterns or groups in unlabeled data, like clustering or dimensionality reduction.Reinforcement Learning: Learns through trial and error to maximize rewards, ideal for decision-making tasks.Note: The following are not part of the original three core types of ML, but they have become increasingly important in real-world applications, especially in deep learning.Additional Types:Self-Supervised'),\n",
       " Document(metadata={'title': 'Machine Learning Tutorial - GeeksforGeeks', 'language': 'en-US', 'source': 'https://www.geeksforgeeks.org/machine-learning/machine-learning/', 'description': 'Your All-in-One Learning Portal: GeeksforGeeks is a comprehensive educational platform that empowers learners across domains-spanning computer science and programming, school education, upskilling, commerce, software tools, competitive exams, and more.'}, page_content='Machine learning is a branch of\\xa0Artificial Intelligence\\xa0that focuses on developing models and algorithms that let computers learn from data without being explicitly programmed for every task. In simple words, ML teaches the systems to think and understand like humans by learning from the data.Machine Learning is mainly divided into three core types: Supervised, Unsupervised and Reinforcement Learning along with two additional types, Semi-Supervised and Self-Supervised Learning.Supervised Learning: Trains models on labeled data to predict or classify new, unseen data.Unsupervised Learning: Finds patterns or groups in unlabeled data, like clustering or dimensionality reduction.Reinforcement Learning: Learns through trial and error to maximize rewards, ideal for decision-making tasks.Note: The following are not part of the original three core types of ML, but they have become increasingly important in real-world applications, especially in deep learning.Additional Types:Self-Supervised'),\n",
       " Document(metadata={'language': 'en-US', 'description': 'Your All-in-One Learning Portal: GeeksforGeeks is a comprehensive educational platform that empowers learners across domains-spanning computer science and programming, school education, upskilling, commerce, software tools, competitive exams, and more.', 'source': 'https://www.geeksforgeeks.org/machine-learning/machine-learning/', 'title': 'Machine Learning Tutorial - GeeksforGeeks'}, page_content='Explore GfG CoursesShare Your ExperiencesMachine Learning TutorialPrerequisites for Machine LearningPython for Machine LearningSQL for Machine LearningGetting Started with Machine LearningAdvantages and Disadvantages of Machine LearningWhy ML is Important ?Real- Life Examples of Machine LearningWhat is the Role of Machine Learning in Data ScienceTop Machine Learning Careers/JobsDifference Between Machine Learning and Artificial IntelligenceMachine Learning FoundationsStatistics For Machine LearningMaths for Machine LearningTop Machine Learning Dataset: Find Open DatasetsPackages For Machine LearningBest R Packages for Machine LearningBest Python libraries for Machine LearningData PreprocessingIntroduction to Data in Machine LearningML | Understanding Data ProcessingML | Overview of Data CleaningCreating Machine Learning ModelMachine Learning ModelsFlowchart for basic Machine Learning modelsCreating a simple machine learning modelMachine Learning Model EvaluationSteps to Build a'),\n",
       " Document(metadata={'title': 'Machine Learning Tutorial - GeeksforGeeks', 'language': 'en-US', 'source': 'https://www.geeksforgeeks.org/machine-learning/machine-learning/', 'description': 'Your All-in-One Learning Portal: GeeksforGeeks is a comprehensive educational platform that empowers learners across domains-spanning computer science and programming, school education, upskilling, commerce, software tools, competitive exams, and more.'}, page_content='Explore GfG CoursesShare Your ExperiencesMachine Learning TutorialPrerequisites for Machine LearningPython for Machine LearningSQL for Machine LearningGetting Started with Machine LearningAdvantages and Disadvantages of Machine LearningWhy ML is Important ?Real- Life Examples of Machine LearningWhat is the Role of Machine Learning in Data ScienceTop Machine Learning Careers/JobsDifference Between Machine Learning and Artificial IntelligenceMachine Learning FoundationsStatistics For Machine LearningMaths for Machine LearningTop Machine Learning Dataset: Find Open DatasetsPackages For Machine LearningBest R Packages for Machine LearningBest Python libraries for Machine LearningData PreprocessingIntroduction to Data in Machine LearningML | Understanding Data ProcessingML | Overview of Data CleaningCreating Machine Learning ModelMachine Learning ModelsFlowchart for basic Machine Learning modelsCreating a simple machine learning modelMachine Learning Model EvaluationSteps to Build a')]"
      ]
     },
     "execution_count": 42,
     "metadata": {},
     "output_type": "execute_result"
    }
   ],
   "source": [
    "db.similarity_search(\"what is machine learning\")"
   ]
  },
  {
   "cell_type": "code",
   "execution_count": 43,
   "id": "975f59d6",
   "metadata": {},
   "outputs": [],
   "source": [
    "retriver = db.as_retriever()"
   ]
  },
  {
   "cell_type": "code",
   "execution_count": 44,
   "id": "e3611afe",
   "metadata": {},
   "outputs": [],
   "source": [
    "from langchain.tools.retriever import create_retriever_tool\n",
    "ml_tool = create_retriever_tool(retriver,\"machine_learning\",\"this tool will provide all the information which is available about machine learning\")"
   ]
  },
  {
   "cell_type": "code",
   "execution_count": 10,
   "id": "08680996",
   "metadata": {},
   "outputs": [],
   "source": [
    "from langchain_community.utilities import ArxivAPIWrapper\n",
    "from langchain_community.tools import ArxivQueryRun\n",
    "api_wrapper = ArxivAPIWrapper(top_k_results=1,doc_content_chars_max=200)\n",
    "arxiv_tool = ArxivQueryRun(api_wrapper=api_wrapper)"
   ]
  },
  {
   "cell_type": "code",
   "execution_count": 11,
   "id": "b34f1de7",
   "metadata": {},
   "outputs": [],
   "source": [
    "tools = [wiki_tool,ml_tool,arxiv_tool]"
   ]
  },
  {
   "cell_type": "code",
   "execution_count": 14,
   "id": "febd329d",
   "metadata": {},
   "outputs": [],
   "source": [
    "from dotenv import load_dotenv\n",
    "load_dotenv()\n",
    "import os\n",
    "google_api = os.getenv('google_api')"
   ]
  },
  {
   "cell_type": "code",
   "execution_count": 16,
   "id": "63c5374f",
   "metadata": {},
   "outputs": [],
   "source": [
    "from langchain_google_genai import ChatGoogleGenerativeAI\n",
    "llm = ChatGoogleGenerativeAI(\n",
    "    model = 'gemini-1.5-flash',\n",
    "    google_api_key = google_api\n",
    ")"
   ]
  },
  {
   "cell_type": "code",
   "execution_count": 17,
   "id": "00a40614",
   "metadata": {},
   "outputs": [],
   "source": [
    "from langchain.agents import AgentType"
   ]
  },
  {
   "cell_type": "code",
   "execution_count": 33,
   "id": "7ce56da6",
   "metadata": {},
   "outputs": [],
   "source": [
    "from langchain_core.prompts import ChatPromptTemplate\n",
    "promt = ChatPromptTemplate.from_messages([('human',\"{input}\")])"
   ]
  },
  {
   "cell_type": "code",
   "execution_count": 49,
   "id": "7acd5b5e",
   "metadata": {},
   "outputs": [],
   "source": [
    "from langchain.agents import initialize_agent\n",
    "agent = initialize_agent(tools,llm,agent_type = AgentType.ZERO_SHOT_REACT_DESCRIPTION,\n",
    "                         prompt = promt)"
   ]
  },
  {
   "cell_type": "code",
   "execution_count": 28,
   "id": "b005037e",
   "metadata": {},
   "outputs": [],
   "source": []
  },
  {
   "cell_type": "code",
   "execution_count": 50,
   "id": "d140da95",
   "metadata": {},
   "outputs": [
    {
     "ename": "ValueError",
     "evalue": "Missing some input keys: {'', 'page_content'}",
     "output_type": "error",
     "traceback": [
      "\u001b[1;31m---------------------------------------------------------------------------\u001b[0m",
      "\u001b[1;31mValueError\u001b[0m                                Traceback (most recent call last)",
      "Cell \u001b[1;32mIn[50], line 1\u001b[0m\n\u001b[1;32m----> 1\u001b[0m \u001b[43magent\u001b[49m\u001b[38;5;241;43m.\u001b[39;49m\u001b[43minvoke\u001b[49m\u001b[43m(\u001b[49m\u001b[43m{\u001b[49m\u001b[38;5;124;43m'\u001b[39;49m\u001b[38;5;124;43minput\u001b[39;49m\u001b[38;5;124;43m'\u001b[39;49m\u001b[43m:\u001b[49m\u001b[38;5;124;43m\"\u001b[39;49m\u001b[38;5;124;43msalman khan wiki page\u001b[39;49m\u001b[38;5;124;43m\"\u001b[39;49m\u001b[43m}\u001b[49m\u001b[43m)\u001b[49m\n",
      "File \u001b[1;32m~\\AppData\\Roaming\\Python\\Python312\\site-packages\\langchain\\chains\\base.py:167\u001b[0m, in \u001b[0;36mChain.invoke\u001b[1;34m(self, input, config, **kwargs)\u001b[0m\n\u001b[0;32m    165\u001b[0m \u001b[38;5;28;01mexcept\u001b[39;00m \u001b[38;5;167;01mBaseException\u001b[39;00m \u001b[38;5;28;01mas\u001b[39;00m e:\n\u001b[0;32m    166\u001b[0m     run_manager\u001b[38;5;241m.\u001b[39mon_chain_error(e)\n\u001b[1;32m--> 167\u001b[0m     \u001b[38;5;28;01mraise\u001b[39;00m e\n\u001b[0;32m    168\u001b[0m run_manager\u001b[38;5;241m.\u001b[39mon_chain_end(outputs)\n\u001b[0;32m    170\u001b[0m \u001b[38;5;28;01mif\u001b[39;00m include_run_info:\n",
      "File \u001b[1;32m~\\AppData\\Roaming\\Python\\Python312\\site-packages\\langchain\\chains\\base.py:155\u001b[0m, in \u001b[0;36mChain.invoke\u001b[1;34m(self, input, config, **kwargs)\u001b[0m\n\u001b[0;32m    148\u001b[0m run_manager \u001b[38;5;241m=\u001b[39m callback_manager\u001b[38;5;241m.\u001b[39mon_chain_start(\n\u001b[0;32m    149\u001b[0m     \u001b[38;5;28;01mNone\u001b[39;00m,\n\u001b[0;32m    150\u001b[0m     inputs,\n\u001b[0;32m    151\u001b[0m     run_id,\n\u001b[0;32m    152\u001b[0m     name\u001b[38;5;241m=\u001b[39mrun_name,\n\u001b[0;32m    153\u001b[0m )\n\u001b[0;32m    154\u001b[0m \u001b[38;5;28;01mtry\u001b[39;00m:\n\u001b[1;32m--> 155\u001b[0m     \u001b[38;5;28;43mself\u001b[39;49m\u001b[38;5;241;43m.\u001b[39;49m\u001b[43m_validate_inputs\u001b[49m\u001b[43m(\u001b[49m\u001b[43minputs\u001b[49m\u001b[43m)\u001b[49m\n\u001b[0;32m    156\u001b[0m     outputs \u001b[38;5;241m=\u001b[39m (\n\u001b[0;32m    157\u001b[0m         \u001b[38;5;28mself\u001b[39m\u001b[38;5;241m.\u001b[39m_call(inputs, run_manager\u001b[38;5;241m=\u001b[39mrun_manager)\n\u001b[0;32m    158\u001b[0m         \u001b[38;5;28;01mif\u001b[39;00m new_arg_supported\n\u001b[0;32m    159\u001b[0m         \u001b[38;5;28;01melse\u001b[39;00m \u001b[38;5;28mself\u001b[39m\u001b[38;5;241m.\u001b[39m_call(inputs)\n\u001b[0;32m    160\u001b[0m     )\n\u001b[0;32m    162\u001b[0m     final_outputs: \u001b[38;5;28mdict\u001b[39m[\u001b[38;5;28mstr\u001b[39m, Any] \u001b[38;5;241m=\u001b[39m \u001b[38;5;28mself\u001b[39m\u001b[38;5;241m.\u001b[39mprep_outputs(\n\u001b[0;32m    163\u001b[0m         inputs, outputs, return_only_outputs\n\u001b[0;32m    164\u001b[0m     )\n",
      "File \u001b[1;32m~\\AppData\\Roaming\\Python\\Python312\\site-packages\\langchain\\chains\\base.py:287\u001b[0m, in \u001b[0;36mChain._validate_inputs\u001b[1;34m(self, inputs)\u001b[0m\n\u001b[0;32m    285\u001b[0m missing_keys \u001b[38;5;241m=\u001b[39m \u001b[38;5;28mset\u001b[39m(\u001b[38;5;28mself\u001b[39m\u001b[38;5;241m.\u001b[39minput_keys)\u001b[38;5;241m.\u001b[39mdifference(inputs)\n\u001b[0;32m    286\u001b[0m \u001b[38;5;28;01mif\u001b[39;00m missing_keys:\n\u001b[1;32m--> 287\u001b[0m     \u001b[38;5;28;01mraise\u001b[39;00m \u001b[38;5;167;01mValueError\u001b[39;00m(\u001b[38;5;124mf\u001b[39m\u001b[38;5;124m\"\u001b[39m\u001b[38;5;124mMissing some input keys: \u001b[39m\u001b[38;5;132;01m{\u001b[39;00mmissing_keys\u001b[38;5;132;01m}\u001b[39;00m\u001b[38;5;124m\"\u001b[39m)\n",
      "\u001b[1;31mValueError\u001b[0m: Missing some input keys: {'', 'page_content'}"
     ]
    }
   ],
   "source": [
    "agent.invoke({'input':\"salman khan wiki page\"})"
   ]
  },
  {
   "cell_type": "code",
   "execution_count": null,
   "id": "51281675",
   "metadata": {},
   "outputs": [],
   "source": []
  },
  {
   "cell_type": "code",
   "execution_count": null,
   "id": "e6dadd8c",
   "metadata": {},
   "outputs": [],
   "source": []
  }
 ],
 "metadata": {
  "kernelspec": {
   "display_name": "Python 3",
   "language": "python",
   "name": "python3"
  },
  "language_info": {
   "codemirror_mode": {
    "name": "ipython",
    "version": 3
   },
   "file_extension": ".py",
   "mimetype": "text/x-python",
   "name": "python",
   "nbconvert_exporter": "python",
   "pygments_lexer": "ipython3",
   "version": "3.12.2"
  }
 },
 "nbformat": 4,
 "nbformat_minor": 5
}
